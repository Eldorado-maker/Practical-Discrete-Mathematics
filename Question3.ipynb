{
  "nbformat": 4,
  "nbformat_minor": 0,
  "metadata": {
    "colab": {
      "provenance": [],
      "authorship_tag": "ABX9TyPFwDbKuUFjPxFfZZmyEt/o",
      "include_colab_link": true
    },
    "kernelspec": {
      "name": "python3",
      "display_name": "Python 3"
    },
    "language_info": {
      "name": "python"
    }
  },
  "cells": [
    {
      "cell_type": "markdown",
      "metadata": {
        "id": "view-in-github",
        "colab_type": "text"
      },
      "source": [
        "<a href=\"https://colab.research.google.com/github/Eldorado-maker/Practical-Discrete-Mathematics/blob/master/Question3.ipynb\" target=\"_parent\"><img src=\"https://colab.research.google.com/assets/colab-badge.svg\" alt=\"Open In Colab\"/></a>"
      ]
    },
    {
      "cell_type": "code",
      "execution_count": 1,
      "metadata": {
        "id": "c6B70lSBcCjR",
        "colab": {
          "base_uri": "https://localhost:8080/"
        },
        "outputId": "e1ed8504-662f-43e4-fb2e-8c0ddaee43a5"
      },
      "outputs": [
        {
          "output_type": "stream",
          "name": "stdout",
          "text": [
            "Suggested friends for user A : ['D', 'F', 'E']\n"
          ]
        }
      ],
      "source": [
        "def suggest_friends(graph, user):\n",
        "    # Get the set of users the given user already follows\n",
        "    followed = set(graph.get(user, []))\n",
        "\n",
        "    # Dictionary to count mutual connections\n",
        "    mutual_connections = {}\n",
        "\n",
        "    # Iterate through each user followed by the target user\n",
        "    for friend in followed:\n",
        "        # Check friends of this friend for mutual connections\n",
        "        for potential_friend in graph.get(friend, []):\n",
        "            if potential_friend != user and potential_friend not in followed:\n",
        "                if potential_friend not in mutual_connections:\n",
        "                    mutual_connections[potential_friend] = 0\n",
        "                mutual_connections[potential_friend] += 1\n",
        "\n",
        "    # Sort suggested friends by number of mutual connections (descending)\n",
        "    suggested_friends = sorted(mutual_connections.keys(), key=lambda x: -mutual_connections[x])\n",
        "\n",
        "    # Return sorted list of suggested friends\n",
        "    return suggested_friends\n",
        "\n",
        "# Example usage:\n",
        "graph = {\n",
        "    'A': ['B', 'C'],\n",
        "    'B': ['A', 'D', 'E'],\n",
        "    'C': ['A', 'F', 'D'],\n",
        "    'D': ['B', 'C', 'G'],\n",
        "    'E': ['B', 'H'],\n",
        "    'F': ['C'],\n",
        "    'G': ['D'],\n",
        "    'H': ['E']\n",
        "}\n",
        "\n",
        "user = 'A'\n",
        "print(\"Suggested friends for user\", user, \":\", suggest_friends(graph, user))"
      ]
    }
  ]
}