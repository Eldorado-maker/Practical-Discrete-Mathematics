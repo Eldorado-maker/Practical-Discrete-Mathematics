{
  "nbformat": 4,
  "nbformat_minor": 0,
  "metadata": {
    "colab": {
      "provenance": [],
      "authorship_tag": "ABX9TyM2iN/AVCinPnBaFVs5+Vf0",
      "include_colab_link": true
    },
    "kernelspec": {
      "name": "python3",
      "display_name": "Python 3"
    },
    "language_info": {
      "name": "python"
    }
  },
  "cells": [
    {
      "cell_type": "markdown",
      "metadata": {
        "id": "view-in-github",
        "colab_type": "text"
      },
      "source": [
        "<a href=\"https://colab.research.google.com/github/Eldorado-maker/Practical-Discrete-Mathematics/blob/master/Untitled0.ipynb\" target=\"_parent\"><img src=\"https://colab.research.google.com/assets/colab-badge.svg\" alt=\"Open In Colab\"/></a>"
      ]
    },
    {
      "cell_type": "code",
      "execution_count": null,
      "metadata": {
        "colab": {
          "base_uri": "https://localhost:8080/"
        },
        "id": "xhh0YDyGpDxp",
        "outputId": "feb79c26-ba58-40b7-fbe9-a5405be4d0b9"
      },
      "outputs": [
        {
          "output_type": "stream",
          "name": "stdout",
          "text": [
            "hello welcome\n"
          ]
        }
      ],
      "source": [
        "print(\"hello welcome\")"
      ]
    },
    {
      "cell_type": "code",
      "source": [
        "print(1+1)\n",
        "print(2*3)\n",
        "print(4/2)"
      ],
      "metadata": {
        "colab": {
          "base_uri": "https://localhost:8080/"
        },
        "id": "EU4q6ux6ptX2",
        "outputId": "8011a9af-d3cd-4dae-d3fd-fc22326c004b"
      },
      "execution_count": null,
      "outputs": [
        {
          "output_type": "stream",
          "name": "stdout",
          "text": [
            "2\n",
            "6\n",
            "2.0\n"
          ]
        }
      ]
    },
    {
      "cell_type": "code",
      "source": [
        "# define the length of the side of the square\n",
        "side_length = 5\n",
        "\n",
        "# calculate the area\n",
        "area = side_length ** 2\n",
        "\n",
        "# display the result\n",
        "print(\"the area of the square is:\",area)"
      ],
      "metadata": {
        "colab": {
          "base_uri": "https://localhost:8080/"
        },
        "id": "QTxBsvW0sPQH",
        "outputId": "70373ef7-fbfa-4fdc-e1d8-f20a5d03c920"
      },
      "execution_count": null,
      "outputs": [
        {
          "output_type": "stream",
          "name": "stdout",
          "text": [
            "the area of the square is: 25\n"
          ]
        }
      ]
    },
    {
      "cell_type": "code",
      "source": [
        "# define the character\n",
        "char = 'c'\n",
        "\n",
        "# convert to hexadecimal\n",
        "hex_value = hex(ord(char))\n",
        "\n",
        "# display the result\n",
        "print(\"the hexadecimal value of '{}' is: {}.format(char,hex_value)\")"
      ],
      "metadata": {
        "colab": {
          "base_uri": "https://localhost:8080/"
        },
        "id": "ZpaFAWwht7z6",
        "outputId": "afcd2c37-a1cc-4c91-e4ea-63b489eb1a32"
      },
      "execution_count": null,
      "outputs": [
        {
          "output_type": "stream",
          "name": "stdout",
          "text": [
            "the hexadecimal value of '{}' is: {}.format(char,hex_value)\n"
          ]
        }
      ]
    }
  ]
}