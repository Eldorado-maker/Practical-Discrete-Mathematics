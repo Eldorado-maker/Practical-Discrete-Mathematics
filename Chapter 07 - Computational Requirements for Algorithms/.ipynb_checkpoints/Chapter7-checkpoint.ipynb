{
  "cells": [
    {
      "cell_type": "markdown",
      "metadata": {
        "id": "UYFfbPnQ8ahw"
      },
      "source": [
        "# Chapter 7 - Computational Requirements for Algorithms\n",
        "\n",
        "This notebook contains code accompanying Chapter 7 Computational Requirements for Algorithms in *Practical Discrete Mathematics* by Ryan T. White and Archana Tikayat Ray.\n",
        "\n",
        "## Computational complexity of algorithms\n",
        "\n",
        "### Example: A simple algorithm"
      ]
    },
    {
      "cell_type": "code",
      "execution_count": 1,
      "metadata": {
        "id": "CC-jH1mx8ah1",
        "outputId": "57b5b950-6c56-4b3c-e472-44a288d103f0",
        "colab": {
          "base_uri": "https://localhost:8080/"
        }
      },
      "outputs": [
        {
          "output_type": "stream",
          "name": "stdout",
          "text": [
            "Please enter a fruit name: banana\n",
            "The updated list is: ['Jackfruit', 'Honeydew', 'Grapes', 'banana']\n",
            "Please enter the name of the fruit you want to delete: honey\n",
            "No fruit name\n"
          ]
        }
      ],
      "source": [
        "# Type of algorithm - inserting new element to pre-existing list\n",
        "fruit_name = [\"Jackfruit\", \"Honeydew\", \"Grapes\"]\n",
        "\n",
        "user_input1 = input(\"Please enter a fruit name: \")\n",
        "fruit_name.append(user_input1)\n",
        "\n",
        "print('The updated list is: ' + str(fruit_name))\n",
        "\n",
        "# Type of algorithm - deleting element from list\n",
        "def delete_fruit(fruit_list, fruit_name_to_delete):\n",
        "    if fruit_name_to_delete in fruit_list:\n",
        "        fruit_list.remove(fruit_name_to_delete)\n",
        "        print('The updated list is: ' + str(fruit_list))\n",
        "    else:\n",
        "        print(\"No fruit name\")\n",
        "\n",
        "user_input2 = input(\"Please enter the name of the fruit you want to delete: \")\n",
        "delete_fruit(fruit_name, user_input2)"
      ]
    },
    {
      "cell_type": "markdown",
      "metadata": {
        "id": "Mq4CF62Z8ah4"
      },
      "source": [
        "### Example: Execution Time"
      ]
    },
    {
      "cell_type": "code",
      "execution_count": null,
      "metadata": {
        "id": "VIZegZTD8ah5",
        "outputId": "20b90611-6426-4a34-e6a7-f870813de6a4"
      },
      "outputs": [
        {
          "name": "stdin",
          "output_type": "stream",
          "text": [
            "Please input a number of your choice:  1\n"
          ]
        },
        {
          "name": "stdout",
          "output_type": "stream",
          "text": [
            "Yes No No No No No No No \n",
            "The time elapsed for this computation is: 0.3815207999999757seconds\n"
          ]
        }
      ],
      "source": [
        "# a is a list containing some numbers\n",
        "# We will compare the number input by user with the numbers in this list\n",
        "import timeit\n",
        "tic=timeit.default_timer()\n",
        "\n",
        "a=[1,2,3,4,5,6,7,8]\n",
        "\n",
        "INPUT = input(\"Please input a number of your choice: \")\n",
        "number = int(INPUT)\n",
        "\n",
        "for i in range(len(a)):\n",
        "    if a[i]== number:\n",
        "        print(\"Yes\", end=' ')\n",
        "    else:\n",
        "        print(\"No\", end=' ')\n",
        "\n",
        "print()\n",
        "\n",
        "toc=timeit.default_timer()\n",
        "time_elapsed = toc - tic\n",
        "\n",
        "print(\"The time elapsed for this computation is: \" + str(time_elapsed) + \"seconds\")"
      ]
    },
    {
      "cell_type": "markdown",
      "metadata": {
        "id": "WP-JQSMt8ah6"
      },
      "source": [
        "## Understanding Big-O Notation\n",
        "\n",
        "### Constant complexity O(constant)"
      ]
    },
    {
      "cell_type": "code",
      "execution_count": null,
      "metadata": {
        "id": "IJMDD92q8ah6",
        "outputId": "d36849eb-2253-4ee6-f016-ea0958dcef81"
      },
      "outputs": [
        {
          "name": "stdout",
          "output_type": "stream",
          "text": [
            "The end result after running the algorithm is:8\n"
          ]
        }
      ],
      "source": [
        "#Constant complexity function\n",
        "def constant_complexity(list):\n",
        "    output = list[1] * list[1] * list[1]\n",
        "    print(\"The end result after running the algorithm is:\" + str(output))\n",
        "\n",
        "constant_complexity([1,2,3,4,5,6,7])"
      ]
    },
    {
      "cell_type": "markdown",
      "metadata": {
        "id": "ek_TYGSa8ah7"
      },
      "source": [
        "### Linear complexity $O(n)$"
      ]
    },
    {
      "cell_type": "code",
      "execution_count": null,
      "metadata": {
        "id": "PFOMnicG8ah7",
        "outputId": "f7476f6a-000a-416a-9bb7-a4c60e06d853"
      },
      "outputs": [
        {
          "name": "stdout",
          "output_type": "stream",
          "text": [
            "Iteration number 1\n",
            "Iteration number 2\n",
            "Iteration number 3\n",
            "Iteration number 4\n",
            "Iteration number 5\n",
            "Iteration number 6\n",
            "Iteration number 7\n"
          ]
        }
      ],
      "source": [
        "# Linear complexity\n",
        "def linear_complexity(list):\n",
        "    for i in list:\n",
        "        print(\"Iteration number \" + str(i))\n",
        "\n",
        "linear_complexity([1,2,3,4,5,6,7])"
      ]
    },
    {
      "cell_type": "markdown",
      "metadata": {
        "id": "q5Tvbur18ah8"
      },
      "source": [
        "### Quadratic complexity $O(n^2)$"
      ]
    },
    {
      "cell_type": "code",
      "execution_count": null,
      "metadata": {
        "id": "SLBblaL_8ah9",
        "outputId": "95e1a9ba-7b54-4822-b4f4-227b31b33aae"
      },
      "outputs": [
        {
          "name": "stdout",
          "output_type": "stream",
          "text": [
            "1\t|First for loop iteration: 1 \t| Second for loop iteration:1\n",
            "2\t|First for loop iteration: 1 \t| Second for loop iteration:2\n",
            "3\t|First for loop iteration: 1 \t| Second for loop iteration:3\n",
            "4\t|First for loop iteration: 1 \t| Second for loop iteration:4\n",
            "5\t|First for loop iteration: 2 \t| Second for loop iteration:1\n",
            "6\t|First for loop iteration: 2 \t| Second for loop iteration:2\n",
            "7\t|First for loop iteration: 2 \t| Second for loop iteration:3\n",
            "8\t|First for loop iteration: 2 \t| Second for loop iteration:4\n",
            "9\t|First for loop iteration: 3 \t| Second for loop iteration:1\n",
            "10\t|First for loop iteration: 3 \t| Second for loop iteration:2\n",
            "11\t|First for loop iteration: 3 \t| Second for loop iteration:3\n",
            "12\t|First for loop iteration: 3 \t| Second for loop iteration:4\n",
            "13\t|First for loop iteration: 4 \t| Second for loop iteration:1\n",
            "14\t|First for loop iteration: 4 \t| Second for loop iteration:2\n",
            "15\t|First for loop iteration: 4 \t| Second for loop iteration:3\n",
            "16\t|First for loop iteration: 4 \t| Second for loop iteration:4\n"
          ]
        }
      ],
      "source": [
        "#Quadratic complexity\n",
        "def quadratic_complexity(list):\n",
        "    count = 0\n",
        "    for i in list:\n",
        "        for j in list:\n",
        "            count += 1\n",
        "            print(str(count) + \"\\t|First for loop iteration: \" + str(i), '\\t|', \"Second for loop iteration:\" + str(j))\n",
        "\n",
        "quadratic_complexity([1,2,3,4])"
      ]
    },
    {
      "cell_type": "markdown",
      "metadata": {
        "id": "zPqnVYnj8ah-"
      },
      "source": [
        "### Complexity of complex functions"
      ]
    },
    {
      "cell_type": "code",
      "execution_count": null,
      "metadata": {
        "id": "Gl99L_At8ah_",
        "outputId": "71846431-6d87-4176-f3b1-88de2a92ef1f"
      },
      "outputs": [
        {
          "name": "stdout",
          "output_type": "stream",
          "text": [
            "Step: 1 \t Hello World!\n",
            "Step: 2 \t Hello World!\n",
            "Step: 3 \t Hello World!\n",
            "Step: 4 \t Hello World!\n",
            "Step: 5 \t Hello World!\n",
            "Step: 6 \t Hello World!\n",
            "Step: 7 \t 1\n",
            "Step: 8 \t 2\n",
            "Step: 9 \t 3\n",
            "Step: 10 \t 4\n",
            "Step: 11 \t 1\n",
            "Step: 12 \t 2\n",
            "Step: 13 \t 3\n",
            "Step: 14 \t 4\n"
          ]
        }
      ],
      "source": [
        "#Complex function complexity\n",
        "def complex_func (list):\n",
        "    count = 0\n",
        "    for i in range(6):\n",
        "        count += 1\n",
        "        print(\"Step: \" + str(count) + \" \\t Hello World!\")\n",
        "\n",
        "    for j in list:\n",
        "        count += 1\n",
        "        print(\"Step: \" + str(count) + \" \\t \" + str(j))\n",
        "\n",
        "    for k in list:\n",
        "        count += 1\n",
        "        print(\"Step: \" + str(count) + \" \\t \" + str(k))\n",
        "\n",
        "complex_func([1,2,3,4])"
      ]
    },
    {
      "cell_type": "markdown",
      "metadata": {
        "id": "W3He8nHY8aiA"
      },
      "source": [
        "## Complexity of algorithms with fundamental control structures\n",
        "\n",
        "### `if`-`elif`-`else`"
      ]
    },
    {
      "cell_type": "code",
      "execution_count": null,
      "metadata": {
        "id": "O9nZH__c8aiB",
        "outputId": "cff83ccb-8add-446b-d9ed-b5e86964b565"
      },
      "outputs": [
        {
          "name": "stdout",
          "output_type": "stream",
          "text": [
            "b is less than a\n"
          ]
        }
      ],
      "source": [
        "#Complexity of if-elif-else statements\n",
        "a = 10\n",
        "b = 5\n",
        "if b > a:\n",
        "    print(\"b is greater than a\")\n",
        "\n",
        "elif b < a:\n",
        "    print(\"b is less than a\")\n",
        "\n",
        "else:\n",
        "    print(\"a and b are equal\")"
      ]
    },
    {
      "cell_type": "markdown",
      "metadata": {
        "id": "S-uCIqRj8aiC"
      },
      "source": [
        "### `for` Loops"
      ]
    },
    {
      "cell_type": "code",
      "execution_count": null,
      "metadata": {
        "id": "LaapF4zp8aiC",
        "outputId": "51d67c97-c14e-4aaa-bbcf-8b82a0e641db"
      },
      "outputs": [
        {
          "name": "stdout",
          "output_type": "stream",
          "text": [
            "apple\n",
            "mango\n",
            "orange\n",
            "banana\n",
            "pomegranate\n"
          ]
        }
      ],
      "source": [
        "#For loop\n",
        "fruits = [\"apple\", \"mango\", \"orange\", \"banana\", \"pomegranate\"]\n",
        "\n",
        "for x in fruits:\n",
        "    print(x)"
      ]
    },
    {
      "cell_type": "markdown",
      "metadata": {
        "id": "lagGyyUX8aiD"
      },
      "source": [
        "### Nested `for` Loops"
      ]
    },
    {
      "cell_type": "code",
      "execution_count": null,
      "metadata": {
        "id": "BFri9HCx8aiD",
        "outputId": "6b1209a6-94b0-46c7-9809-ff2af0b05cc7"
      },
      "outputs": [
        {
          "name": "stdout",
          "output_type": "stream",
          "text": [
            "tasty apple\n",
            "tasty mango\n",
            "tasty orange\n",
            "tasty banana\n",
            "tasty pomegranate\n",
            "juicy apple\n",
            "juicy mango\n",
            "juicy orange\n",
            "juicy banana\n",
            "juicy pomegranate\n",
            "fresh apple\n",
            "fresh mango\n",
            "fresh orange\n",
            "fresh banana\n",
            "fresh pomegranate\n"
          ]
        }
      ],
      "source": [
        "#Nested for loop\n",
        "fruits = [\"apple\", \"mango\", \"orange\", \"banana\", \"pomegranate\"]\n",
        "adjectives = [\"tasty\", \"juicy\", \"fresh\"]\n",
        "\n",
        "for y in adjectives:\n",
        "    for x in fruits:\n",
        "        print(y, x)"
      ]
    },
    {
      "cell_type": "markdown",
      "metadata": {
        "id": "XnDZ0QZQ8aiE"
      },
      "source": [
        "### `while` Loops"
      ]
    },
    {
      "cell_type": "code",
      "execution_count": null,
      "metadata": {
        "id": "bd9PMrYr8aiE",
        "outputId": "c7a996d2-a7dd-475c-9f5d-2c6b5d142cc7"
      },
      "outputs": [
        {
          "name": "stdout",
          "output_type": "stream",
          "text": [
            "Step: 1 The condition is satisfied\n",
            "Step: 2 The condition is satisfied\n",
            "Step: 3 The condition is satisfied\n",
            "Step: 4 The condition is satisfied\n",
            "Step: 5 The condition is satisfied\n",
            "Step: 6 The condition is satisfied\n",
            "Step: 7 The condition is satisfied\n",
            "Step: 8 The condition is satisfied\n",
            "Step: 9 The condition is satisfied\n"
          ]
        }
      ],
      "source": [
        "#While loop\n",
        "i = 1\n",
        "while i < 10:\n",
        "    print(\"Step: \" + str(i) + \" The condition is satisfied\")\n",
        "    i += 1"
      ]
    },
    {
      "cell_type": "markdown",
      "metadata": {
        "id": "hIkLSbg18aiF"
      },
      "source": [
        "## Complexity of common search algorithms\n",
        "\n",
        "### Linear search algorithm"
      ]
    },
    {
      "cell_type": "code",
      "execution_count": null,
      "metadata": {
        "id": "wVfM_J8O8aiF",
        "outputId": "08a0732b-b3ed-449f-a85f-e54ebb29f908"
      },
      "outputs": [
        {
          "name": "stdin",
          "output_type": "stream",
          "text": [
            "Please input a number of your choice:  5\n"
          ]
        },
        {
          "name": "stdout",
          "output_type": "stream",
          "text": [
            "False \n",
            "False \n",
            "False \n",
            "False \n",
            "True \n",
            "False \n",
            "False \n",
            "False \n"
          ]
        }
      ],
      "source": [
        "def linear_search(input):\n",
        "    lists = [1, 2, 3, 4, 5, 6, 7, 8]\n",
        "    number = int(input)\n",
        "\n",
        "    for i in range(len(lists)):\n",
        "        if lists[i] == number:\n",
        "            print(\"True\", end=' ')\n",
        "\n",
        "        else:\n",
        "            print(\"False\", end=' ')\n",
        "\n",
        "        print()\n",
        "\n",
        "INPUT = input(\"Please input a number of your choice: \")\n",
        "linear_search(INPUT)"
      ]
    },
    {
      "cell_type": "markdown",
      "metadata": {
        "id": "YA9lca4-8aiG"
      },
      "source": [
        "### Binary search algorithm"
      ]
    },
    {
      "cell_type": "code",
      "execution_count": null,
      "metadata": {
        "id": "dmDG9UWQ8aiG",
        "outputId": "77d133ab-47a6-4fc6-a751-9d889e37459e"
      },
      "outputs": [
        {
          "name": "stdout",
          "output_type": "stream",
          "text": [
            "Target element is present at index 9 of the list\n"
          ]
        }
      ],
      "source": [
        "# Returns index of target (x) if present in the list\n",
        "def binary_search(list, l, r, target_value):\n",
        "    # Check base case\n",
        "    if r >= l:\n",
        "        mid_index = l + (r - l) // 2\n",
        "\n",
        "        # If target element matches with the mid-element of the list\n",
        "        if list[mid_index] == target_value:\n",
        "            return mid_index\n",
        "\n",
        "        # If element is smaller than mid-element, then it can only be present in the left sublist\n",
        "        elif list[mid_index] > target_value:\n",
        "            return binary_search(list, l, mid_index - 1, target_value)\n",
        "\n",
        "        # Else the element can only be present in the right sub-list\n",
        "        else:\n",
        "            return binary_search(list, mid_index + 1, r, target_value)\n",
        "\n",
        "    else:\n",
        "        # Element is not present in the array\n",
        "        return -1\n",
        "\n",
        "# Test list\n",
        "list = [10, 20, 30, 40, 50, 60, 70, 80, 90, 100]\n",
        "target_value = 100\n",
        "\n",
        "# Function call\n",
        "result = binary_search(list, 0, len(list) - 1, target_value)\n",
        "\n",
        "if result != -1:\n",
        "    print(\"Target element is present at index \" + str(result) + \" of the list\")\n",
        "\n",
        "else:\n",
        "    print(\"Target element is not present in list\")"
      ]
    }
  ],
  "metadata": {
    "kernelspec": {
      "display_name": "Python 3.7 (DL)",
      "language": "python",
      "name": "dl"
    },
    "language_info": {
      "codemirror_mode": {
        "name": "ipython",
        "version": 3
      },
      "file_extension": ".py",
      "mimetype": "text/x-python",
      "name": "python",
      "nbconvert_exporter": "python",
      "pygments_lexer": "ipython3",
      "version": "3.7.7"
    },
    "colab": {
      "provenance": []
    }
  },
  "nbformat": 4,
  "nbformat_minor": 0
}