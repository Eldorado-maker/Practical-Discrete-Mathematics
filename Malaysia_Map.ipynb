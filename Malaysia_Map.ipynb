{
  "nbformat": 4,
  "nbformat_minor": 0,
  "metadata": {
    "colab": {
      "provenance": [],
      "authorship_tag": "ABX9TyNPeLOMJOOx9uk0ZF3T2K+y",
      "include_colab_link": true
    },
    "kernelspec": {
      "name": "python3",
      "display_name": "Python 3"
    },
    "language_info": {
      "name": "python"
    }
  },
  "cells": [
    {
      "cell_type": "markdown",
      "metadata": {
        "id": "view-in-github",
        "colab_type": "text"
      },
      "source": [
        "<a href=\"https://colab.research.google.com/github/Eldorado-maker/Practical-Discrete-Mathematics/blob/master/Malaysia_Map.ipynb\" target=\"_parent\"><img src=\"https://colab.research.google.com/assets/colab-badge.svg\" alt=\"Open In Colab\"/></a>"
      ]
    },
    {
      "cell_type": "code",
      "source": [
        "import folium\n",
        "\n",
        "# Coordinates of Malaysia (approximate center point)\n",
        "malaysia_coords = [4.2105, 101.9758]\n",
        "\n",
        "# Create a map centered around Malaysia\n",
        "malaysia_map = folium.Map(location=malaysia_coords, zoom_start=6)\n",
        "\n",
        "# Add a marker to Kuala Lumpur, Malaysia's capital\n",
        "kuala_lumpur_coords = [3.139, 101.6869]\n",
        "folium.Marker(\n",
        "    location=kuala_lumpur_coords,\n",
        "    popup='Kuala Lumpur - The Capital of Malaysia',\n",
        "    icon=folium.Icon(color='blue', icon='info-sign')\n",
        ").add_to(malaysia_map)\n",
        "\n",
        "# Add markers for other key cities in Malaysia\n",
        "key_cities = {\n",
        "    \"George Town, Penang\": [5.4164, 100.3327],\n",
        "    \"Johor Bahru, Johor\": [1.4927, 103.7414],\n",
        "    \"Kota Kinabalu, Sabah\": [5.9804, 116.0735],\n",
        "    \"Kuching, Sarawak\": [1.5533, 110.3592],\n",
        "}\n",
        "\n",
        "for city, coords in key_cities.items():\n",
        "    folium.Marker(\n",
        "        location=coords,\n",
        "        popup=city,\n",
        "        icon=folium.Icon(color='green')\n",
        "    ).add_to(malaysia_map)\n",
        "\n",
        "# Save the map to an HTML file\n",
        "malaysia_map.save(\"malaysia_map.html\")\n",
        "\n",
        "print(\"Map of Malaysia has been created and saved as 'malaysia_map.html'.\")"
      ],
      "metadata": {
        "id": "Q7bKGo0d-Wf4",
        "colab": {
          "base_uri": "https://localhost:8080/"
        },
        "outputId": "4432fd2e-d815-4ef7-db62-a2f2846560b9"
      },
      "execution_count": 6,
      "outputs": [
        {
          "output_type": "stream",
          "name": "stdout",
          "text": [
            "Map of Malaysia has been created and saved as 'malaysia_map.html'.\n"
          ]
        }
      ]
    }
  ]
}