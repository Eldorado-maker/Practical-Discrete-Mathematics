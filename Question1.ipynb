{
  "nbformat": 4,
  "nbformat_minor": 0,
  "metadata": {
    "colab": {
      "provenance": [],
      "authorship_tag": "ABX9TyPEiSA3MsSKNzBXrp04jZuX",
      "include_colab_link": true
    },
    "kernelspec": {
      "name": "python3",
      "display_name": "Python 3"
    },
    "language_info": {
      "name": "python"
    }
  },
  "cells": [
    {
      "cell_type": "markdown",
      "metadata": {
        "id": "view-in-github",
        "colab_type": "text"
      },
      "source": [
        "<a href=\"https://colab.research.google.com/github/Eldorado-maker/Practical-Discrete-Mathematics/blob/master/Question1.ipynb\" target=\"_parent\"><img src=\"https://colab.research.google.com/assets/colab-badge.svg\" alt=\"Open In Colab\"/></a>"
      ]
    },
    {
      "cell_type": "code",
      "execution_count": 2,
      "metadata": {
        "id": "NWS0HGsIaxlC"
      },
      "outputs": [],
      "source": [
        "from datetime import datetime\n",
        "\n",
        "def count_sundays():\n",
        "  count = 0\n",
        "  for year in range(1901, 2001):\n",
        "    for month in range(1,13):\n",
        "      if datetime(year, month, 1).weekday() == 6: # 6 is Sunday\n",
        "         count += 1\n",
        "  return count\n",
        "\n",
        "  print(\"Number of Sundays on the first of the month:\", count_sundays)"
      ]
    },
    {
      "cell_type": "code",
      "source": [
        "import inflect\n",
        "\n",
        "def number_letter_counts(limit=1000):\n",
        "    p = inflect.engine()\n",
        "    total_letters = 0\n",
        "    for i in range(1, limit + 1):\n",
        "        word = p.number_to_words(i).replace(\" \", \"\").replace(\"-\", \"\")\n",
        "        total_letters += len(word)\n",
        "    return total_letters\n",
        "\n",
        "print(\"Total number of letters from 1 to 1000:\", number_letter_counts())"
      ],
      "metadata": {
        "id": "NcF_rGQgqzaG"
      },
      "execution_count": null,
      "outputs": []
    },
    {
      "cell_type": "code",
      "source": [
        "def self_powers(limit=1000, last_digits=10):\n",
        "    total = sum(i**i for i in range(1, limit + 1))\n",
        "    return str(total)[-last_digits:]\n",
        "\n",
        "print(\"Last ten digits of the series:\", self_powers())"
      ],
      "metadata": {
        "id": "BUFnMLXhq7OV"
      },
      "execution_count": null,
      "outputs": []
    },
    {
      "cell_type": "code",
      "source": [
        "import urllib.request\n",
        "from itertools import cycle, product\n",
        "\n",
        "# Download the cipher text\n",
        "url = \"https://projecteuler.net/resources/documents/0059_cipher.txt\"\n",
        "cipher_text = urllib.request.urlopen(url).read().decode().strip().split(',')\n",
        "cipher_text = list(map(int, cipher_text))\n",
        "\n",
        "def decrypt(cipher, key):\n",
        "    return ''.join(chr(c ^ k) for c, k in zip(cipher, cycle(key)))\n",
        "\n",
        "def find_decryption():\n",
        "    for key in product(range(ord('a'), ord('z') + 1), repeat=3):\n",
        "        decrypted_text = decrypt(cipher_text, key)\n",
        "        if \" the \" in decrypted_text and \" and \" in decrypted_text:  # Common English words\n",
        "            return sum(ord(char) for char in decrypted_text), ''.join(chr(k) for k in key), decrypted_text\n",
        "\n",
        "total_ascii, key, decrypted_message = find_decryption()\n",
        "print(\"Sum of ASCII values in the original text:\", total_ascii)\n",
        "print(\"Decryption key:\", key)\n",
        "print(\"Decrypted message preview:\", decrypted_message[:100])  # Print the first 100 characters"
      ],
      "metadata": {
        "id": "uebftiJPrCtq"
      },
      "execution_count": null,
      "outputs": []
    }
  ]
}