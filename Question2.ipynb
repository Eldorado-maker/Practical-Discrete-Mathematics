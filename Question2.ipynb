{
  "nbformat": 4,
  "nbformat_minor": 0,
  "metadata": {
    "colab": {
      "provenance": [],
      "authorship_tag": "ABX9TyNQ7p4My+fL/fWUQOtfHL9w",
      "include_colab_link": true
    },
    "kernelspec": {
      "name": "python3",
      "display_name": "Python 3"
    },
    "language_info": {
      "name": "python"
    }
  },
  "cells": [
    {
      "cell_type": "markdown",
      "metadata": {
        "id": "view-in-github",
        "colab_type": "text"
      },
      "source": [
        "<a href=\"https://colab.research.google.com/github/Eldorado-maker/Practical-Discrete-Mathematics/blob/master/Question2.ipynb\" target=\"_parent\"><img src=\"https://colab.research.google.com/assets/colab-badge.svg\" alt=\"Open In Colab\"/></a>"
      ]
    },
    {
      "cell_type": "code",
      "execution_count": null,
      "metadata": {
        "id": "xAZxzQMkcCOI"
      },
      "outputs": [],
      "source": [
        "def linear_search(arr.target):\n",
        "  for i in range(len(arr)):\n",
        "    if arr[i] == target:\n",
        "      return i # Target found\n",
        "  return -1 #  Target not found\n",
        "\n",
        "# Example usage\n",
        "arr = [3, 5, 2, 7, 9, 1]\n",
        "target = 7\n",
        "print(\"Linear Search result:\", linear_search(arr,target))"
      ]
    },
    {
      "cell_type": "code",
      "source": [
        "def bubble_sort(arr):\n",
        "  n = len(arr)\n",
        "  for i in range(n):\n",
        "    for j in range(0, n-i-1):\n",
        "      if arr[j] > arr[j+1]:\n",
        "        arr[j], arr[j+1] = arr[j+1], arr[j]\n",
        "  return arr\n",
        "\n",
        "# Example usage\n",
        "arr = [64, 34, 25, 12, 22, 11, 90]\n",
        "print(\"Bubble Sort result:\",bubble_sort(arr))"
      ],
      "metadata": {
        "id": "S9-GbTSXedtJ"
      },
      "execution_count": null,
      "outputs": []
    },
    {
      "cell_type": "code",
      "source": [
        "def binary_search(arr, target):\n",
        "  left, right = 0, len(arr) - 1\n",
        "  while left <= right:\n",
        "    mid = (left + right) // 2\n",
        "    if arr[mid] == target:\n",
        "      return mid\n",
        "    elif arr[mid] < target:\n",
        "      left = mid + 1\n",
        "    else:\n",
        "      right = mid - 1\n",
        "  return -1 # Target not found\n",
        "\n",
        "# Example usage\n",
        "arr = [1, 3, 5, 7, 9, 11]\n",
        "target = 7\n",
        "print(\"Binary Search result:\", binary_search(arr,target))"
      ],
      "metadata": {
        "id": "FF28H77GgEaW"
      },
      "execution_count": null,
      "outputs": []
    },
    {
      "cell_type": "code",
      "source": [
        "def counting_sort(arr, exp):\n",
        "  n = len(arr)\n",
        "  output = [0] * n\n",
        "  count = [0] * 10\n",
        "\n",
        "  for i in range(n):\n",
        "    index = (arr[i] // exp)\n",
        "    count[index % 10] += 1\n",
        "\n",
        "  for i in range(1, 10):\n",
        "    count[i] += count[i - 1]\n",
        "\n",
        "  i = n - 1\n",
        "  while i >= 0:\n",
        "    index = arr[i] // exp\n",
        "    output[count[index % 10] - 1] = arr[i]\n",
        "    count[index % 10] -= 1\n",
        "    i -= 1\n",
        "\n",
        "  for i in range(len(arr)):\n",
        "    arr[i] = output[i]\n",
        "\n",
        "  def radix_sort(arr):\n",
        "    max_val = max(arr)\n",
        "    exp = 1\n",
        "    while max_val // exp > 0:\n",
        "      counting_sort(arr, exp)\n",
        "      exp *= 10\n",
        "    return arr\n",
        "\n",
        "# Example usage\n",
        "arr = [170, 45, 75, 90, 802, 24, 2, 66]\n",
        "print(\"Radix Sort result:\", radix_sort(arr))"
      ],
      "metadata": {
        "id": "pbCU7Mbzkndz"
      },
      "execution_count": null,
      "outputs": []
    },
    {
      "cell_type": "code",
      "source": [
        "def heapify(arr, n, i):\n",
        "  largest = i\n",
        "  left = 2 * i + 1\n",
        "  right = 2 * i + 2\n",
        "\n",
        "  if left < n and arr[left] > arr[largest]:\n",
        "    largest = left\n",
        "  if right < n and arr[right] > arr[largest]:\n",
        "    largest = right\n",
        "  if largest != i:\n",
        "    arr[i], arr[largest] = arr[largest], arr[i]\n",
        "    heapify(arr, n, largest)\n",
        "def heap_sort(arr):\n",
        "  n = len(arr)\n",
        "  for i in range(n // 2 - 1, -1, -1):\n",
        "    heapify(arr, n, i)\n",
        "  for i in range(n - 1, 0, -1):\n",
        "    arr[i], arr[0] = arr[0], arr[i]\n",
        "    heapify(arr, i, 0)\n",
        "  return arr\n",
        "\n",
        "# Example usage\n",
        "arr = [12, 11, 13, 5, 6, 7]\n",
        "print(\"Heap Sort result:\", heap_sort(arr))"
      ],
      "metadata": {
        "id": "swToe6V5nEi5"
      },
      "execution_count": null,
      "outputs": []
    }
  ]
}